{
 "cells": [
  {
   "cell_type": "code",
   "execution_count": 8,
   "metadata": {},
   "outputs": [],
   "source": [
    "## Imports\n",
    "import os, sys\n",
    "parent_dir = os.path.abspath('..')\n",
    "if parent_dir not in sys.path:\n",
    "    sys.path.append(parent_dir)\n",
    "\n",
    "import re\n",
    "from cltkext.lemmatize.backoff_wrappers import LatmorEnsembleLemmatizer\n",
    "from pprint import pprint"
   ]
  },
  {
   "cell_type": "code",
   "execution_count": 6,
   "metadata": {},
   "outputs": [],
   "source": [
    "## Get text\n",
    "text = \"\"\"Ita fac, mi Lucili; vindica te tibi, et tempus, quod adhuc aut auferebatur aut subripiebatur aut excidebat, collige et serva. Persuade tibi hoc sic esse, ut scribo: quaedam tempora eripiuntur nobis, quaedam subducuntur, quaedam effluunt.\"\"\""
   ]
  },
  {
   "cell_type": "code",
   "execution_count": 10,
   "metadata": {},
   "outputs": [],
   "source": [
    "## Setup LatMor wrapper\n",
    "\n",
    "# NB: This wrapper expects to find SFST tools and LatMor installed at /usr/local/bin. Check documentation at https://www.cis.uni-muenchen.de/~schmid/tools/LatMor/ for install info.\n",
    "\n",
    "# normalize parameter converts v -> u, j -> i\n",
    "L = LatmorEnsembleLemmatizer(normalize=True)"
   ]
  },
  {
   "cell_type": "code",
   "execution_count": 13,
   "metadata": {},
   "outputs": [],
   "source": [
    "# Get lemmas\n",
    "lemmas = L.lemmatize(text.split(), lemmas_only=True)"
   ]
  },
  {
   "cell_type": "code",
   "execution_count": 16,
   "metadata": {},
   "outputs": [
    {
     "name": "stdout",
     "output_type": "stream",
     "text": [
      "[('Ita', ['ita', 'ito', 'iton']), ('fac', ['facio']), (',', [',']), ('mi', ['MI']), ('Lucili', ['Lucilius']), (';', [';']), ('vindica', ['uindico']), ('te', ['tu']), ('tibi', ['tu']), (',', [',']), ('et', ['et']), ('tempus', ['tempus']), (',', [',']), ('quod', ['qui', 'quis', 'quod']), ('adhuc', ['adhuc']), ('aut', ['aut']), ('auferebatur', ['aufero']), ('aut', ['aut']), ('subripiebatur', None), ('aut', ['aut']), ('excidebat', ['excido']), (',', [',']), ('collige', ['colligo']), ('et', ['et']), ('serva', ['serua', 'seruo', 'seruus'])]\n"
     ]
    }
   ],
   "source": [
    "# Show output\n",
    "print(lemmas[:25])"
   ]
  }
 ],
 "metadata": {
  "interpreter": {
   "hash": "f13c6c4616355ccd51d0d099c0ff7de6feb31d3474457a6e0aa7c4b62d9c3be4"
  },
  "kernelspec": {
   "display_name": "Python 3.9.9 64-bit ('cltk_readers-dev': virtualenv)",
   "language": "python",
   "name": "python3"
  },
  "language_info": {
   "codemirror_mode": {
    "name": "ipython",
    "version": 3
   },
   "file_extension": ".py",
   "mimetype": "text/x-python",
   "name": "python",
   "nbconvert_exporter": "python",
   "pygments_lexer": "ipython3",
   "version": "3.8.12"
  },
  "orig_nbformat": 4
 },
 "nbformat": 4,
 "nbformat_minor": 2
}
